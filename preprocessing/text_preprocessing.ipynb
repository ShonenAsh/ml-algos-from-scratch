{
 "cells": [
  {
   "cell_type": "code",
   "execution_count": 1,
   "id": "initial_id",
   "metadata": {
    "collapsed": true,
    "ExecuteTime": {
     "end_time": "2024-06-16T03:23:37.322154Z",
     "start_time": "2024-06-16T03:23:36.798819Z"
    }
   },
   "outputs": [],
   "source": [
    "import string\n",
    "\n",
    "import regex as re\n",
    "from nltk.corpus import stopwords"
   ]
  },
  {
   "cell_type": "code",
   "outputs": [],
   "source": [
    "def parse_dialog_data(path: str) -> dict:\n",
    "    dialogs = dict()\n",
    "    with open(path, mode='r', encoding='utf-8') as f:\n",
    "        lines = f.readlines()\n",
    "    data = [l.split(',', maxsplit=1) for l in lines]\n",
    "    for l in data:\n",
    "        if l[0] in dialogs:\n",
    "            dialogs[l[0]].append(l[1])\n",
    "        else:\n",
    "            dialogs[l[0]] = list(l[1])\n",
    "    return dialogs\n",
    "\n",
    "\n",
    "simpsons_data = parse_dialog_data('./../data/simpsons/simpsons_dataset.csv')"
   ],
   "metadata": {
    "collapsed": false,
    "ExecuteTime": {
     "end_time": "2024-06-16T03:24:02.997207Z",
     "start_time": "2024-06-16T03:24:02.888027Z"
    }
   },
   "id": "8fc428f66bde4651",
   "execution_count": 8
  },
  {
   "cell_type": "code",
   "outputs": [
    {
     "data": {
      "text/plain": "['\"Aw, Dad. It\\'s just a popularity contest.\"\\n',\n '\"Sure, why not?\"\\n',\n '\"Hm, yeah.\"\\n',\n '\"He says, there aren\\'t any easy answers! I say, he\\'s not looking hard enough!\"\\n',\n '\"Me, too, Mom. I think they\\'re drifting apart.\"\\n']"
     },
     "execution_count": 16,
     "metadata": {},
     "output_type": "execute_result"
    }
   ],
   "source": [
    "# Peering into the dataset 👁️\n",
    "simpsons_data['Bart Simpson'][-5:]"
   ],
   "metadata": {
    "collapsed": false,
    "ExecuteTime": {
     "end_time": "2024-06-16T03:26:30.093883Z",
     "start_time": "2024-06-16T03:26:30.088989Z"
    }
   },
   "id": "e699bbdf43980c9",
   "execution_count": 16
  },
  {
   "cell_type": "code",
   "outputs": [],
   "source": [
    "# Preprocessing\n",
    "def char_level_preprocess(doc):\n",
    "    doc = re.sub(r'(\\d+)', ' ', doc)\n",
    "    doc = re.sub(r'(\\s+)', ' ', doc)\n",
    "    doc = re.sub(rf'[{re.escape(string.punctuation)}]', '', doc)\n",
    "    doc = doc.lower()\n",
    "    doc = doc.strip()\n",
    "    return doc\n",
    "\n",
    "\n",
    "def word_level_preprocess(doc):\n",
    "    sw = stopwords.words('english')\n",
    "    res = ''\n",
    "    for w in doc.split():\n",
    "        if w not in sw:\n",
    "            res += w + ' '\n",
    "    return res.strip()\n",
    "\n",
    "\n",
    "def apply_preprocess(doc, remove_stop=True):\n",
    "    doc = char_level_preprocess(doc)\n",
    "    if remove_stop:\n",
    "        return word_level_preprocess(doc)\n",
    "    else:\n",
    "        return doc"
   ],
   "metadata": {
    "collapsed": false,
    "ExecuteTime": {
     "end_time": "2024-06-16T03:26:51.032763Z",
     "start_time": "2024-06-16T03:26:51.028373Z"
    }
   },
   "id": "63c37aea24356d27",
   "execution_count": 18
  },
  {
   "cell_type": "code",
   "outputs": [],
   "source": [
    "for k in simpsons_data.keys():\n",
    "    simpsons_data[k] = list(map(apply_preprocess, simpsons_data[k]))"
   ],
   "metadata": {
    "collapsed": false,
    "ExecuteTime": {
     "end_time": "2024-06-16T03:27:43.256973Z",
     "start_time": "2024-06-16T03:26:54.214638Z"
    }
   },
   "id": "79e50249c30c4229",
   "execution_count": 19
  },
  {
   "cell_type": "code",
   "outputs": [
    {
     "data": {
      "text/plain": "['aw dad popularity contest',\n 'sure',\n 'hm yeah',\n 'says arent easy answers say hes looking hard enough',\n 'mom think theyre drifting apart']"
     },
     "execution_count": 20,
     "metadata": {},
     "output_type": "execute_result"
    }
   ],
   "source": [
    "simpsons_data['Bart Simpson'][-5:]"
   ],
   "metadata": {
    "collapsed": false,
    "ExecuteTime": {
     "end_time": "2024-06-16T03:27:49.968124Z",
     "start_time": "2024-06-16T03:27:49.964075Z"
    }
   },
   "id": "aaac54caa6973240",
   "execution_count": 20
  }
 ],
 "metadata": {
  "kernelspec": {
   "display_name": "Python 3",
   "language": "python",
   "name": "python3"
  },
  "language_info": {
   "codemirror_mode": {
    "name": "ipython",
    "version": 2
   },
   "file_extension": ".py",
   "mimetype": "text/x-python",
   "name": "python",
   "nbconvert_exporter": "python",
   "pygments_lexer": "ipython2",
   "version": "2.7.6"
  }
 },
 "nbformat": 4,
 "nbformat_minor": 5
}

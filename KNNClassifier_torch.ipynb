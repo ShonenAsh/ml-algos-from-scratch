{
 "cells": [
  {
   "cell_type": "code",
   "execution_count": 31,
   "metadata": {},
   "outputs": [],
   "source": [
    "import time\n",
    "import numpy as np\n",
    "import torch.nn as nn\n",
    "import torch\n",
    "import struct\n",
    "from sklearn.metrics import accuracy_score"
   ]
  },
  {
   "cell_type": "code",
   "execution_count": 32,
   "metadata": {},
   "outputs": [],
   "source": [
    "device = torch.device(\"cuda\" if torch.cuda.is_available() else \"cpu\")"
   ]
  },
  {
   "cell_type": "code",
   "execution_count": 33,
   "metadata": {},
   "outputs": [],
   "source": [
    "class KNNClassifier:\n",
    "        \n",
    "    def __init__(self, k=3, metric=None):\n",
    "        self.k = k\n",
    "        if metric is None:\n",
    "            metric = 'euclidean'\n",
    "        self.metric = metric\n",
    "\n",
    "    def fit(self, X_train: torch.Tensor, y_train: torch.Tensor):\n",
    "        self.X_train = X_train\n",
    "        self.y_train = y_train\n",
    "\n",
    "    def predict(self, X_test: torch.Tensor):\n",
    "        y_pred = self._cal_predictions(X_test)\n",
    "        return y_pred\n",
    "\n",
    "    def _cal_predictions(self, X: torch.Tensor):\n",
    "        idx = None\n",
    "        dist = torch.cdist(self.X_train, X, p=2)\n",
    "        idx =  torch.argsort(dist, dim=0)[:self.k]\n",
    "        # pick the most frequently occuring label from top k neighbors \n",
    "        k_labels = self.y_train[idx]\n",
    "        return torch.mode(k_labels, dim=0)[0]\n"
   ]
  },
  {
   "cell_type": "code",
   "execution_count": 34,
   "metadata": {},
   "outputs": [],
   "source": [
    "# reading mnist byte\n",
    "# Reference \"https://stackoverflow.com/questions/39969045/parsing-yann-lecuns-mnist-idx-file-format\"\n",
    "def read_mnist_idx_images(path):\n",
    "    with open(path, 'rb') as f:\n",
    "        magic, size = struct.unpack(\">II\", f.read(8))\n",
    "        nrows, ncols = struct.unpack(\">II\", f.read(8))\n",
    "        imgs = np.fromfile(f, dtype=np.dtype(np.uint8).newbyteorder('>'))\n",
    "        imgs = imgs.reshape((size, nrows, ncols))\n",
    "    return imgs\n",
    "\n",
    "\n",
    "def read_mnist_idx_labels(path):\n",
    "    with open(path, 'rb') as f:\n",
    "        magic, size = struct.unpack(\">II\", f.read(8))\n",
    "        labels = np.fromfile(f, dtype=np.dtype(np.uint8).newbyteorder('>'))\n",
    "        labels = labels.reshape((size,))\n",
    "    return labels"
   ]
  },
  {
   "cell_type": "code",
   "execution_count": 35,
   "metadata": {},
   "outputs": [],
   "source": [
    "mnist_train, mnist_test = dict(), dict()\n",
    "mnist_train['X'] = read_mnist_idx_images('./data/MNIST/train-images.idx3-ubyte')\n",
    "mnist_train['y'] = read_mnist_idx_labels('./data/MNIST/train-labels.idx1-ubyte')\n",
    "\n",
    "mnist_test['X'] = read_mnist_idx_images('./data/MNIST/t10k-images.idx3-ubyte')\n",
    "mnist_test['y'] = read_mnist_idx_labels('./data/MNIST/t10k-labels.idx1-ubyte')"
   ]
  },
  {
   "cell_type": "code",
   "execution_count": 36,
   "metadata": {},
   "outputs": [],
   "source": [
    "def zscore_norm(data: np.ndarray) -> np.ndarray:\n",
    "    mean = np.mean(data, axis=1).reshape(data.shape[0], 1)\n",
    "    std = np.std(data, axis=1).reshape(data.shape[0], 1)\n",
    "    z_normed = (data - mean) / std\n",
    "    return np.asarray(z_normed, dtype=np.float16)"
   ]
  },
  {
   "cell_type": "code",
   "execution_count": 37,
   "metadata": {},
   "outputs": [],
   "source": [
    "mnist_tr_10k_X = mnist_train['X'][:9000]\n",
    "mnist_tr_y = mnist_train['y'][:9000]\n",
    "\n",
    "mnist_ts_10k_X = mnist_test['X'][:5000]\n",
    "mnist_ts_y = mnist_test['y'][:5000]\n",
    "\n",
    "# train\n",
    "mnist_tr_X = zscore_norm(mnist_tr_10k_X.reshape(mnist_tr_10k_X.shape[0], 784))\n",
    "# test\n",
    "mnist_ts_X = zscore_norm(mnist_ts_10k_X.reshape(mnist_ts_10k_X.shape[0], 784))"
   ]
  },
  {
   "cell_type": "code",
   "execution_count": 38,
   "metadata": {},
   "outputs": [
    {
     "name": "stdout",
     "output_type": "stream",
     "text": [
      "Accuracy: 0.9342\n",
      "Execution time: 0.00592350959777832 s\n"
     ]
    }
   ],
   "source": [
    "# GPU\n",
    "knn = KNNClassifier(k=5, metric='euclidean')\n",
    "knn.fit(torch.from_numpy(mnist_tr_X).cuda(), torch.from_numpy(mnist_tr_y).cuda())\n",
    "st_time = time.time()\n",
    "y_pred = knn.predict(torch.from_numpy(mnist_ts_X).cuda())\n",
    "ed_time = time.time()\n",
    "print(f'Accuracy: {accuracy_score(mnist_ts_y,\n",
    "                                   y_pred.detach().cpu().numpy())}')\n",
    "print(f'Execution time: {ed_time - st_time} s')"
   ]
  },
  {
   "cell_type": "code",
   "execution_count": 39,
   "metadata": {},
   "outputs": [],
   "source": [
    "torch.cuda.empty_cache()"
   ]
  },
  {
   "cell_type": "code",
   "execution_count": 40,
   "metadata": {},
   "outputs": [
    {
     "name": "stdout",
     "output_type": "stream",
     "text": [
      "Accuracy: 0.9348\n",
      "Execution time: 94.10724544525146 s\n"
     ]
    }
   ],
   "source": [
    "# CPU\n",
    "knn = KNNClassifier(k=5, metric='euclidean')\n",
    "knn.fit(torch.from_numpy(mnist_tr_X), torch.from_numpy(mnist_tr_y))\n",
    "st_time = time.time()\n",
    "y_pred = knn.predict(torch.from_numpy(mnist_ts_X))\n",
    "ed_time = time.time()\n",
    "print(f'Accuracy: {accuracy_score(mnist_ts_y,\n",
    "                                   y_pred.detach().cpu().numpy())}')\n",
    "print(f'Execution time: {ed_time - st_time} s')"
   ]
  },
  {
   "cell_type": "markdown",
   "metadata": {},
   "source": [
    "cdist and argsort run 19000x times faster on GPU"
   ]
  }
 ],
 "metadata": {
  "kernelspec": {
   "display_name": ".venv",
   "language": "python",
   "name": "python3"
  },
  "language_info": {
   "codemirror_mode": {
    "name": "ipython",
    "version": 3
   },
   "file_extension": ".py",
   "mimetype": "text/x-python",
   "name": "python",
   "nbconvert_exporter": "python",
   "pygments_lexer": "ipython3",
   "version": "3.12.3"
  }
 },
 "nbformat": 4,
 "nbformat_minor": 2
}

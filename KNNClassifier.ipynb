{
 "cells": [
  {
   "cell_type": "code",
   "execution_count": 4,
   "metadata": {},
   "outputs": [
    {
     "name": "stdout",
     "output_type": "stream",
     "text": [
      "hello world\n"
     ]
    }
   ],
   "source": [
    "import numpy as np\n",
    "print('hello world')"
   ]
  },
  {
   "cell_type": "code",
   "execution_count": 5,
   "metadata": {},
   "outputs": [],
   "source": [
    "def cosine_sim(): \n",
    "    return 1 - a.dot(b) / (np.linalg.norm(a) * np.linalg.norm(b))"
   ]
  },
  {
   "cell_type": "code",
   "execution_count": 6,
   "metadata": {},
   "outputs": [],
   "source": [
    "class KNNClassifier:\n",
    "\n",
    "    def __init__(self, k=3, metric=None):\n",
    "        self.k = k\n",
    "        if metric is None:\n",
    "            metric = 'euclidean'\n",
    "        self.metric = metric\n",
    "\n",
    "    def fit(self, X_train, y_train):\n",
    "        self.X_train = X_train\n",
    "        self.y_train = y_train\n",
    "\n",
    "    def predict(self, X_test):\n",
    "        y_pred = self._cal_predictions(X_test)\n",
    "        return y_pred\n",
    "\n",
    "    def _cal_predictions(self, X):\n",
    "        idx = None\n",
    "        if self.metric == 'euclidean':\n",
    "            dist = DistanceMetric.get_metric('euclidean', dtype=np.float32).pairwise(self.X_train, X)\n",
    "            idx = np.argsort(dist, axis=0)[:self.k]\n",
    "        elif self.metric == 'cosine':\n",
    "            similarity = cosine_similarity(self.X_train, X)\n",
    "            idx = np.argsort(similarity, axis=0)[-self.k:]\n",
    "        else:\n",
    "            raise ValueError('metric is not supported')\n",
    "\n",
    "        k_labels = self.y_train[idx]\n",
    "        return st.mode(k_labels, axis=0).mode\n"
   ]
  }
 ],
 "metadata": {
  "kernelspec": {
   "display_name": ".venv",
   "language": "python",
   "name": "python3"
  },
  "language_info": {
   "codemirror_mode": {
    "name": "ipython",
    "version": 3
   },
   "file_extension": ".py",
   "mimetype": "text/x-python",
   "name": "python",
   "nbconvert_exporter": "python",
   "pygments_lexer": "ipython3",
   "version": "3.12.3"
  }
 },
 "nbformat": 4,
 "nbformat_minor": 2
}

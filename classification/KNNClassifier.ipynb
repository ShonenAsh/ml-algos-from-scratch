{
 "cells": [
  {
   "cell_type": "code",
   "execution_count": 4,
   "metadata": {},
   "outputs": [],
   "source": [
    "import numpy as np\n",
    "import scipy as sc\n",
    "import struct\n",
    "import matplotlib.pyplot as plt\n",
    "from sklearn.metrics import accuracy_score\n",
    "%matplotlib inline"
   ]
  },
  {
   "cell_type": "markdown",
   "metadata": {},
   "source": [
    "### KNNClassifier\n",
    "Metrics: Cosine Similarity, Euclidean distance"
   ]
  },
  {
   "cell_type": "code",
   "execution_count": 28,
   "metadata": {},
   "outputs": [],
   "source": [
    "class KNNClassifier:\n",
    "    \n",
    "    \n",
    "    def __init__(self, k=3, metric=None):\n",
    "        self.k = k\n",
    "        if metric is None:\n",
    "            metric = 'euclidean'\n",
    "        self.metric = metric\n",
    "\n",
    "    def fit(self, X_train, y_train):\n",
    "        self.X_train = X_train\n",
    "        self.y_train = y_train\n",
    "\n",
    "    def predict(self, X_test):\n",
    "        y_pred = self._cal_predictions(X_test)\n",
    "        return y_pred\n",
    "\n",
    "    def _cal_predictions(self, X):\n",
    "        idx = None\n",
    "        dist = sc.spatial.distance.cdist(self.X_train, X, metric=self.metric)\n",
    "        idx = np.argsort(dist, axis=0)[:self.k]\n",
    "        # pick the most frequently occuring label from top k neighbors \n",
    "        k_labels = self.y_train[idx]\n",
    "        return sc.stats.mode(k_labels, axis=0).mode\n"
   ]
  },
  {
   "cell_type": "code",
   "execution_count": null,
   "metadata": {},
   "outputs": [],
   "source": [
    "# These functions are not used above as the scipy implementation is far more optimized. \n",
    "# But a from-scratch implementation using numpy would look like this:\n",
    "def cosine_distance(A: np.ndarray, B: np.ndarray) -> np.ndarray: \n",
    "    return A.dot(B.T) / (np.linalg.norm(A) * np.linalg.norm(B))\n",
    "\n",
    "def euclidean_distance(A: np.ndarray, B: np.ndarray) -> np.ndarray: \n",
    "    A_s = np.sum(np.square(A), axis=1, keepdims=True)\n",
    "    B_s = np.sum(np.square(B), axis=1, keepdims=True)\n",
    "    D = A_s + B_s.T - 2 * A.dot(B.T)\n",
    "    # numpy precision could lead to negative values in places of zeros\n",
    "    D[D < 0] = 0\n",
    "    return np.sqrt(D)"
   ]
  },
  {
   "cell_type": "markdown",
   "metadata": {},
   "source": [
    "#### Testing on MNIST"
   ]
  },
  {
   "cell_type": "code",
   "execution_count": 20,
   "metadata": {},
   "outputs": [],
   "source": [
    "# reading mnist byte\n",
    "# Reference \"https://stackoverflow.com/questions/39969045/parsing-yann-lecuns-mnist-idx-file-format\"\n",
    "def read_mnist_idx_images(path):\n",
    "    with open(path, 'rb') as f:\n",
    "        magic, size = struct.unpack(\">II\", f.read(8))\n",
    "        nrows, ncols = struct.unpack(\">II\", f.read(8))\n",
    "        imgs = np.fromfile(f, dtype=np.dtype(np.uint8).newbyteorder('>'))\n",
    "        imgs = imgs.reshape((size, nrows, ncols))\n",
    "    return imgs\n",
    "\n",
    "\n",
    "def read_mnist_idx_labels(path):\n",
    "    with open(path, 'rb') as f:\n",
    "        magic, size = struct.unpack(\">II\", f.read(8))\n",
    "        labels = np.fromfile(f, dtype=np.dtype(np.uint8).newbyteorder('>'))\n",
    "        labels = labels.reshape((size,))\n",
    "    return labels"
   ]
  },
  {
   "cell_type": "code",
   "execution_count": 21,
   "metadata": {},
   "outputs": [],
   "source": [
    "mnist_train, mnist_test = dict(), dict()\n",
    "mnist_train['X'] = read_mnist_idx_images('./data/MNIST/train-images.idx3-ubyte')\n",
    "mnist_train['y'] = read_mnist_idx_labels('./data/MNIST/train-labels.idx1-ubyte')\n",
    "\n",
    "mnist_test['X'] = read_mnist_idx_images('./data/MNIST/t10k-images.idx3-ubyte')\n",
    "mnist_test['y'] = read_mnist_idx_labels('./data/MNIST/t10k-labels.idx1-ubyte')"
   ]
  },
  {
   "cell_type": "markdown",
   "metadata": {},
   "source": [
    "Plotting a sample from the dataset"
   ]
  },
  {
   "cell_type": "code",
   "execution_count": 22,
   "metadata": {},
   "outputs": [
    {
     "data": {
      "image/png": "[encoded data removed]",
      "text/plain": [
       "<Figure size 640x480 with 1 Axes>"
      ]
     },
     "metadata": {},
     "output_type": "display_data"
    }
   ],
   "source": [
    "plt.title(\"Label: \" + str(mnist_train['y'][0]))\n",
    "plt.imshow(mnist_train['X'][0], cmap='gray')\n",
    "plt.show()"
   ]
  },
  {
   "cell_type": "markdown",
   "metadata": {},
   "source": [
    "#### Preprocessing\n",
    "\n",
    "Using a subset of the train and then applying preprocessing to reduce memory usage"
   ]
  },
  {
   "cell_type": "code",
   "execution_count": 23,
   "metadata": {},
   "outputs": [],
   "source": [
    "mnist_tr_10k_X = mnist_train['X'][:10000]\n",
    "mnist_tr_10k_y = mnist_train['y'][:10000]\n",
    "\n",
    "# The test is already 10k\n",
    "mnist_tr_10k_X = mnist_tr_10k_X.reshape(mnist_tr_10k_X.shape[0], 784)\n",
    "\n",
    "mnist_ts_X = mnist_test['X'].reshape(mnist_test['X'].shape[0], 784)\n",
    "mnist_ts_y = mnist_test['y'] "
   ]
  },
  {
   "cell_type": "code",
   "execution_count": 25,
   "metadata": {},
   "outputs": [],
   "source": [
    "# We have two normalization options\n",
    "# Z-score normaliation\n",
    "def zscore_norm(data: np.ndarray) -> np.ndarray:\n",
    "    mean = np.mean(data, axis=1).reshape(data.shape[0], 1)\n",
    "    std = np.std(data, axis=1).reshape(data.shape[0], 1)\n",
    "    z_normed = (data - mean) / std\n",
    "    return np.asarray(z_normed, dtype=np.float16)\n",
    "\n",
    "\n",
    "# Min-max normalization\n",
    "def min_max_norm(data: np.ndarray) -> np.ndarray:\n",
    "    norm = data / 255\n",
    "    return np.asarray(norm, dtype=np.float16)\n",
    "\n",
    "\n",
    "# 0/1 transformation, sharpens images \n",
    "def binary_transform(data: np.ndarray) -> np.ndarray:\n",
    "    data = min_max_norm(data)\n",
    "    data[data >= 0.5] = 1\n",
    "    data[data < 0.5] = 0\n",
    "    return np.asarray(data, dtype=np.uint8)"
   ]
  },
  {
   "cell_type": "code",
   "execution_count": 26,
   "metadata": {},
   "outputs": [],
   "source": [
    "mnist_train_norm = zscore_norm(mnist_tr_10k_X)\n",
    "mnist_test_norm = zscore_norm(mnist_ts_X)"
   ]
  },
  {
   "cell_type": "markdown",
   "metadata": {},
   "source": [
    "KNN with Euclidean distance"
   ]
  },
  {
   "cell_type": "code",
   "execution_count": 18,
   "metadata": {},
   "outputs": [
    {
     "name": "stdout",
     "output_type": "stream",
     "text": [
      "Accuracy: 0.9537\n"
     ]
    }
   ],
   "source": [
    "knn = KNNClassifier(k=5, metric='euclidean')\n",
    "knn.fit(mnist_train_norm, mnist_tr_10k_y)\n",
    "y_pred = knn.predict(mnist_test_norm)\n",
    "\n",
    "print(f'Accuracy: {accuracy_score(mnist_ts_y, y_pred)}')"
   ]
  },
  {
   "cell_type": "markdown",
   "metadata": {},
   "source": [
    "KNN with Cosine distance"
   ]
  },
  {
   "cell_type": "code",
   "execution_count": 29,
   "metadata": {},
   "outputs": [
    {
     "name": "stdout",
     "output_type": "stream",
     "text": [
      "Accuracy: 0.9532\n"
     ]
    }
   ],
   "source": [
    "knn = KNNClassifier(k=6, metric='cosine')\n",
    "knn.fit(mnist_train_norm, mnist_tr_10k_y)\n",
    "y_pred = knn.predict(mnist_test_norm)\n",
    "\n",
    "print(f'Accuracy: {accuracy_score(mnist_ts_y, y_pred)}')"
   ]
  },
  {
   "cell_type": "markdown",
   "metadata": {},
   "source": [
    "Let's use 0/1 transformation and compare performance"
   ]
  },
  {
   "cell_type": "code",
   "execution_count": 30,
   "metadata": {},
   "outputs": [],
   "source": [
    "mnist_tr_binary = binary_transform(mnist_tr_10k_X)\n",
    "mnist_ts_binary = binary_transform(mnist_ts_X)"
   ]
  },
  {
   "cell_type": "code",
   "execution_count": 34,
   "metadata": {},
   "outputs": [
    {
     "data": {
      "image/png": "[encoded data removed]",
      "text/plain": [
       "<Figure size 640x480 with 1 Axes>"
      ]
     },
     "metadata": {},
     "output_type": "display_data"
    }
   ],
   "source": [
    "plt.title(\"Binary transformed, label: \" + str(mnist_tr_10k_y[0]))\n",
    "plt.imshow(mnist_tr_binary[0].reshape(28,28), cmap='gray')\n",
    "plt.show()"
   ]
  },
  {
   "cell_type": "code",
   "execution_count": 31,
   "metadata": {},
   "outputs": [
    {
     "name": "stdout",
     "output_type": "stream",
     "text": [
      "Binary transform\n",
      "Accuracy: 0.9299\n"
     ]
    }
   ],
   "source": [
    "knn = KNNClassifier(k=5, metric='euclidean')\n",
    "knn.fit(mnist_tr_binary, mnist_tr_10k_y)\n",
    "y_pred = knn.predict(mnist_ts_binary)\n",
    "print('Binary transform')\n",
    "print(f'Accuracy: {accuracy_score(mnist_ts_y, y_pred)}')"
   ]
  },
  {
   "cell_type": "markdown",
   "metadata": {},
   "source": [
    "We observe a drop in accuracy because of information loss on transforming from [0-225] to {0, 1}"
   ]
  }
 ],
 "metadata": {
  "kernelspec": {
   "display_name": ".venv",
   "language": "python",
   "name": "python3"
  },
  "language_info": {
   "codemirror_mode": {
    "name": "ipython",
    "version": 3
   },
   "file_extension": ".py",
   "mimetype": "text/x-python",
   "name": "python",
   "nbconvert_exporter": "python",
   "pygments_lexer": "ipython3",
   "version": "3.12.3"
  }
 },
 "nbformat": 4,
 "nbformat_minor": 2
}
